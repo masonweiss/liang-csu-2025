{
 "cells": [
  {
   "cell_type": "code",
   "execution_count": 1,
   "id": "676c29ed",
   "metadata": {},
   "outputs": [],
   "source": [
    "import numpy as np\n",
    "from PIL import Image\n",
    "import matplotlib.pyplot as plt\n",
    "import os"
   ]
  },
  {
   "cell_type": "code",
   "execution_count": 2,
   "id": "43c0159e",
   "metadata": {},
   "outputs": [],
   "source": [
    "DATE = '080125'"
   ]
  },
  {
   "cell_type": "code",
   "execution_count": 3,
   "id": "b0810f66",
   "metadata": {},
   "outputs": [],
   "source": [
    "def save_background_image(SAS, img_file_idx, bkg_file_idx, save_profiles=False):\n",
    "    image = Image.open(f'csu_data/SAS_{SAS}/{DATE}/test_{img_file_idx:04d}.tif')\n",
    "    bkg_image = Image.open(f'csu_data/SAS_{SAS}/{DATE}/test_{bkg_file_idx:04d}.tif')\n",
    "    \n",
    "    arr = np.array(image)\n",
    "    assert arr.dtype == np.uint8, \"8 bit unsigned integer expected\"\n",
    "    \n",
    "    bkg_arr = np.array(bkg_image)\n",
    "    assert bkg_arr.dtype == np.uint8, \"8 bit unsigned integer expected\"\n",
    "\n",
    "    os.makedirs(f'out/SAS_{SAS}/{DATE}', exist_ok=True)\n",
    "    \n",
    "    diff = np.clip(np.array(image) - np.array(bkg_image), 0, 255).astype(np.uint8)\n",
    "    diff = 255 - diff\n",
    "    plt.figure()\n",
    "    plt.imshow(diff, cmap='gray', vmin=0, vmax=255)\n",
    "    plt.axis('off')\n",
    "    plt.savefig(f'out/SAS_{SAS}/{DATE}/test_{img_file_idx:04d}_subtracted.png')\n",
    "\n",
    "    if save_profiles:\n",
    "        fig, (ax1, ax2) = plt.subplots(2, 1, figsize=(10, 10))\n",
    "        profile = np.mean(diff, axis=0)\n",
    "        ax1.plot(profile)\n",
    "        ax1.grid('on')\n",
    "        ax1.set_title(f'Horizontal Profile for SAS_{SAS}/{DATE}/test_{img_file_idx:04d}')\n",
    "        profile = np.mean(diff, axis=1)\n",
    "        ax2.plot(profile)\n",
    "        ax2.grid('on')\n",
    "        ax2.set_title(f'Vertical Profile for SAS_{SAS}/{DATE}/test_{img_file_idx:04d}')\n",
    "        plt.savefig(f'out/SAS_{SAS}/{DATE}/test_{img_file_idx:04d}_profiles.png')\n",
    "    \n",
    "    return arr, bkg_arr, diff"
   ]
  },
  {
   "cell_type": "code",
   "execution_count": null,
   "id": "e4262401",
   "metadata": {},
   "outputs": [],
   "source": [
    "save_background_image('A', 40, 41, save_profiles=True)\n",
    "save_background_image('B', 40, 41, save_profiles=True)\n",
    "\n",
    "save_background_image('A', 39, 42, save_profiles=True)\n",
    "save_background_image('B', 39, 42, save_profiles=True)\n",
    "\n",
    "#save_background_image('A', 38, 42, save_profiles=True)\n",
    "save_background_image('B', 38, 42, save_profiles=True)\n",
    "\n",
    "save_background_image('A', 37, 43, save_profiles=True)\n",
    "save_background_image('B', 37, 43, save_profiles=True)\n",
    "\n",
    "save_background_image('A', 36, 44, save_profiles=True)\n",
    "save_background_image('B', 36, 44, save_profiles=True)"
   ]
  }
 ],
 "metadata": {
  "kernelspec": {
   "display_name": "csu",
   "language": "python",
   "name": "python3"
  },
  "language_info": {
   "codemirror_mode": {
    "name": "ipython",
    "version": 3
   },
   "file_extension": ".py",
   "mimetype": "text/x-python",
   "name": "python",
   "nbconvert_exporter": "python",
   "pygments_lexer": "ipython3",
   "version": "3.12.11"
  }
 },
 "nbformat": 4,
 "nbformat_minor": 5
}
